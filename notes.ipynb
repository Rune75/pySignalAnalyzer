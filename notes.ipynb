{
 "cells": [
  {
   "cell_type": "markdown",
   "metadata": {},
   "source": [
    "# Exploring significance of coherency of sampled ADC data in FFt analysis\n",
    "\n",
    "## Q and A\n",
    "\n",
    "q: what is the effect of cohorency in FFT analysis?\n",
    "a: Coherency is the measure of how well two signals are correlated. In the context of FFT analysis, coherency is the measure of how well the sampled data is correlated with the input signal. If the sampled data is not coherent with the input signal, the FFT analysis will not be able to extract the correct frequency components of the signal. This can lead to incorrect results and misinterpretation of the data.\n",
    "\n",
    "q: How to measure coherency in FFT analysis?\n",
    "a: Coherency can be measured using the coherence function, which is a measure of the correlation between two signals. The coherence function is calculated by taking the cross-spectral density of the two signals and dividing it by the product of the individual spectral densities. The coherence function ranges from 0 to 1, with 1 indicating perfect correlation and 0 indicating no correlation.\n",
    "\n",
    "q: what is the formula to calculate coherent input signal frequency?\n",
    "a: The formula to calculate the coherent input signal frequency is given by:\n",
    "    f = n * fs / N\n",
    "    where:\n",
    "    f is the coherent input signal frequency,\n",
    "    n is the index of the peak in the FFT spectrum,\n",
    "    fs is the sampling frequency,\n",
    "    N is the number of samples in the FFT.\n",
    "\n",
    "q: what determines the number of frequency bins in FFT analysis?\n",
    "a: The number of frequency bins in FFT analysis is determined by the number of samples in the FFT. The number of frequency bins is equal to half the number of samples in the FFT, as the FFT output is symmetric about the Nyquist frequency. For example, if the FFT has 1024 samples, there will be 512 frequency bins in the output spectrum.\n",
    "\n",
    "q\n"
   ]
  },
  {
   "cell_type": "code",
   "execution_count": 30,
   "metadata": {},
   "outputs": [],
   "source": [
    "\n",
    "# global imports, for importing all the necessary modules in one place\n",
    "from helpers import *\n",
    "\n",
    "signal = generate_signal_with_harmonics(55e3, 32767, 1e6, [-90, -70, -50, -30, -10, 10, 30, 50, 70, 9])\n",
    "#plot_data(signal, 'Samples', 'Scaled to FS=1')"
   ]
  },
  {
   "cell_type": "code",
   "execution_count": 31,
   "metadata": {},
   "outputs": [
    {
     "ename": "NameError",
     "evalue": "name 'harmonic_frequencies' is not defined",
     "output_type": "error",
     "traceback": [
      "\u001b[0;31m---------------------------------------------------------------------------\u001b[0m",
      "\u001b[0;31mNameError\u001b[0m                                 Traceback (most recent call last)",
      "Cell \u001b[0;32mIn[31], line 37\u001b[0m\n\u001b[1;32m     33\u001b[0m peak_info \u001b[38;5;241m=\u001b[39m []\n\u001b[1;32m     36\u001b[0m \u001b[38;5;66;03m# Iterate over the first 5 harmonic frequencies\u001b[39;00m\n\u001b[0;32m---> 37\u001b[0m \u001b[38;5;28;01mfor\u001b[39;00m harmonic_frequency \u001b[38;5;129;01min\u001b[39;00m \u001b[43mharmonic_frequencies\u001b[49m[:\u001b[38;5;241m5\u001b[39m]:\n\u001b[1;32m     38\u001b[0m     \u001b[38;5;66;03m# Calculate the lower and upper bounds of the range\u001b[39;00m\n\u001b[1;32m     39\u001b[0m     lower_bound \u001b[38;5;241m=\u001b[39m harmonic_frequency \u001b[38;5;241m-\u001b[39m range_around_harmonic\n\u001b[1;32m     40\u001b[0m     upper_bound \u001b[38;5;241m=\u001b[39m harmonic_frequency \u001b[38;5;241m+\u001b[39m range_around_harmonic\n",
      "\u001b[0;31mNameError\u001b[0m: name 'harmonic_frequencies' is not defined"
     ]
    }
   ],
   "source": [
    "# calculate power spectrum\n",
    "\n",
    "frequencies = np.fft.fftfreq(len(t), 1/sampling_rate)\n",
    "# scale with input sample length\n",
    "power_spectrum = np.abs(np.fft.fft(signal_with_harmonics)) / len(t)\n",
    "# Convert to dB\n",
    "power_spectrum = 20 * np.log10(power_spectrum)\n",
    "# convert to one sided spectrum\n",
    "power_spectrum = power_spectrum[:len(frequencies)//2]+6   # only positive frequencies are valid\n",
    "frequencies = frequencies[:len(frequencies)//2]   # only positive frequencies are valid   \n",
    "\n",
    "\n",
    "\n",
    "# plot power spectrum\n",
    "#plot_data(power_spectrum, 'Frequency', 'Magnitude', title='Power Spectrum of PCM Signal with Harmonics', x=frequencies)\n",
    "\n",
    "# plt.plot(frequencies, power_spectrum)\n",
    "# plt.xlabel('Frequency')\n",
    "# plt.ylabel('Magnitude')\n",
    "# plt.title('Power Spectrum of PCM Signal with Harmonics')\n",
    "# # set y scale range\n",
    "# plt.ylim(-130, 0)\n",
    "# plt.show()\n",
    "\n",
    "# calculate SFDR\n",
    "    \n",
    "# Find the levels and the indexes of the 5 firsts harmonic frequencies of the input signal and store the variables in a result cluster\n",
    "\n",
    "# Define the range around the harmonic frequency\n",
    "range_around_harmonic = 3\n",
    "\n",
    "# Initialize an empty array to store the peak levels and indexes\n",
    "peak_info = []\n",
    "\n",
    "# Iterate over the first 5 harmonic frequencies\n",
    "for harmonic_frequency in harmonic_frequencies[:5]:\n",
    "    # Calculate the lower and upper bounds of the range\n",
    "    lower_bound = harmonic_frequency - range_around_harmonic\n",
    "    upper_bound = harmonic_frequency + range_around_harmonic\n",
    "    \n",
    "    # Find the peaks within the range\n",
    "    peaks_within_range = peaks[(peaks >= lower_bound) & (peaks <= upper_bound)]\n",
    "    \n",
    "    # Find the maximum peak level within the range\n",
    "    max_peak_level = np.max(power_spectrum[peaks_within_range])\n",
    "    \n",
    "    # Find the index of the maximum peak level\n",
    "    max_peak_index = np.argmax(power_spectrum[peaks_within_range])\n",
    "    \n",
    "    # Store the peak level and index in the peak_info array\n",
    "    peak_info.append({'harmonic_name': f'Harmonic {harmonic_frequency}', 'level': max_peak_level, 'index': peaks_within_range[max_peak_index]})\n",
    "\n",
    "# Print the peak_info array\n",
    "for peak in peak_info:\n",
    "    print(peak)\n",
    "\n",
    "\n",
    "\n"
   ]
  }
 ],
 "metadata": {
  "kernelspec": {
   "display_name": ".venv",
   "language": "python",
   "name": "python3"
  },
  "language_info": {
   "codemirror_mode": {
    "name": "ipython",
    "version": 3
   },
   "file_extension": ".py",
   "mimetype": "text/x-python",
   "name": "python",
   "nbconvert_exporter": "python",
   "pygments_lexer": "ipython3",
   "version": "3.11.6"
  }
 },
 "nbformat": 4,
 "nbformat_minor": 2
}
